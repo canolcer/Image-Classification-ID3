{
  "cells": [
    {
      "cell_type": "markdown",
      "metadata": {
        "id": "XSZwWkMBHdKG"
      },
      "source": [
        "# Part 1"
      ]
    },
    {
      "cell_type": "code",
      "execution_count": null,
      "metadata": {
        "id": "ri0TYe9vAOJh"
      },
      "outputs": [],
      "source": [
        "import numpy as np\n",
        "import cv2\n",
        "import os\n",
        "from sklearn.metrics import accuracy_score, precision_score, recall_score, f1_score\n",
        "import matplotlib.pyplot as plt"
      ]
    },
    {
      "cell_type": "markdown",
      "metadata": {
        "id": "bcEjOZZ95epA"
      },
      "source": [
        "# Image feature extraction for train set"
      ]
    },
    {
      "cell_type": "markdown",
      "metadata": {
        "id": "XUQw-beo5q1Q"
      },
      "source": [
        "**1. Resizing**"
      ]
    },
    {
      "cell_type": "code",
      "execution_count": null,
      "metadata": {
        "id": "h1bGr7cU4hvq"
      },
      "outputs": [],
      "source": [
        "\n",
        "# Set the path to your dataset\n",
        "dataset_path = r'flowers\\flowers\\train'\n",
        "\n",
        "# Set the desired size for your images\n",
        "target_size = (200, 200)\n",
        "\n",
        "# Create a new folder to store resized images\n",
        "resized_path = r'resized'\n",
        "os.makedirs(resized_path, exist_ok=True)\n",
        "\n",
        "# Iterate through each folder in the dataset\n",
        "for folder_name in os.listdir(dataset_path):\n",
        "    folder_path = os.path.join(dataset_path, folder_name)\n",
        "\n",
        "    # Check if the item in the folder is a subdirectory\n",
        "    if os.path.isdir(folder_path):\n",
        "        # Create a new folder in the resized directory\n",
        "        resized_folder_path = os.path.join(resized_path, folder_name)\n",
        "        os.makedirs(resized_folder_path, exist_ok=True)\n",
        "\n",
        "        # Iterate through each image in the folder\n",
        "        for image_name in os.listdir(folder_path):\n",
        "            image_path = os.path.join(folder_path, image_name)\n",
        "\n",
        "            # Read the image using OpenCV\n",
        "            image = cv2.imread(image_path)\n",
        "\n",
        "            # Resize the image\n",
        "            resized_image = cv2.resize(image, target_size)\n",
        "\n",
        "            # Save the resized image to the new folder\n",
        "            resized_image_path = os.path.join(resized_folder_path, image_name)\n",
        "            cv2.imwrite(resized_image_path, resized_image)\n",
        "\n",
        "print(\"Image resizing completed.\")\n"
      ]
    },
    {
      "cell_type": "markdown",
      "metadata": {
        "id": "58okHvn257cS"
      },
      "source": [
        "**2. Color space conversion to Grayscale**"
      ]
    },
    {
      "cell_type": "code",
      "execution_count": null,
      "metadata": {
        "id": "twKBefwA6FUy"
      },
      "outputs": [],
      "source": [
        "# Set the path to the resized dataset\n",
        "resized_path = r'resized'\n",
        "\n",
        "# Create a new folder to store grayscale images\n",
        "gray_path = r'grayscale'\n",
        "os.makedirs(gray_path, exist_ok=True)\n",
        "\n",
        "# Iterate through each folder in the resized dataset\n",
        "for folder_name in os.listdir(resized_path):\n",
        "    folder_path = os.path.join(resized_path, folder_name)\n",
        "\n",
        "    # Check if the item in the folder is a subdirectory\n",
        "    if os.path.isdir(folder_path):\n",
        "        # Create a new folder in the Grayscale directory\n",
        "        gray_folder_path = os.path.join(gray_path, folder_name)\n",
        "        os.makedirs(gray_folder_path, exist_ok=True)\n",
        "\n",
        "        # Iterate through each image in the folder\n",
        "        for image_name in os.listdir(folder_path):\n",
        "            image_path = os.path.join(folder_path, image_name)\n",
        "\n",
        "            # Read the resized image using OpenCV\n",
        "            resized_image = cv2.imread(image_path)\n",
        "\n",
        "            # Convert the color space to grayscale\n",
        "            gray_image = cv2.cvtColor(resized_image, cv2.COLOR_BGR2GRAY)\n",
        "\n",
        "            # Save the grayscale image to the new folder\n",
        "            gray_image_path = os.path.join(gray_folder_path, f'gray_{image_name}')\n",
        "            cv2.imwrite(gray_image_path, gray_image)\n",
        "\n",
        "print(\"Color space conversion to Grayscale completed.\")\n"
      ]
    },
    {
      "cell_type": "markdown",
      "metadata": {
        "id": "VQ68XONU6PKR"
      },
      "source": [
        "**3. Canny edge detection**"
      ]
    },
    {
      "cell_type": "code",
      "execution_count": null,
      "metadata": {
        "id": "jTcZqHAD6WQy"
      },
      "outputs": [],
      "source": [
        "# Set the path to the RGB dataset\n",
        "rgb_path = r'grayscale'\n",
        "\n",
        "# Create a new folder to store edge-detected images\n",
        "edge_path = r'edges'\n",
        "os.makedirs(edge_path, exist_ok=True)\n",
        "\n",
        "# Iterate through each folder in the RGB dataset\n",
        "for folder_name in os.listdir(rgb_path):\n",
        "    folder_path = os.path.join(rgb_path, folder_name)\n",
        "\n",
        "    # Check if the item in the folder is a subdirectory\n",
        "    if os.path.isdir(folder_path):\n",
        "        # Create a new folder in the Edge directory\n",
        "        edge_folder_path = os.path.join(edge_path, folder_name)\n",
        "        os.makedirs(edge_folder_path, exist_ok=True)\n",
        "\n",
        "        # Iterate through each image in the folder\n",
        "        for image_name in os.listdir(folder_path):\n",
        "            image_path = os.path.join(folder_path, image_name)\n",
        "\n",
        "            # Read the RGB image using OpenCV\n",
        "            rgb_image = cv2.imread(image_path)\n",
        "\n",
        "            # Convert the RGB image to grayscale\n",
        "            gray_image = cv2.cvtColor(rgb_image, cv2.COLOR_RGB2GRAY)\n",
        "\n",
        "            # Apply Canny Edge Detector\n",
        "            edges_canny = cv2.Canny(gray_image, 50, 150)\n",
        "\n",
        "            # Save the Canny edge-detected image to the new folder\n",
        "            cv2.imwrite(os.path.join(edge_folder_path, f'canny_{image_name}'), edges_canny)\n",
        "\n",
        "print(\"Canny edge detection completed.\")\n"
      ]
    },
    {
      "cell_type": "markdown",
      "metadata": {
        "id": "T5NmMRBF6iwI"
      },
      "source": [
        "**4. Texture enhancement**"
      ]
    },
    {
      "cell_type": "code",
      "execution_count": null,
      "metadata": {
        "id": "n7sHxX4v6wTN"
      },
      "outputs": [],
      "source": [
        "import cv2\n",
        "import os\n",
        "import numpy as np\n",
        "\n",
        "# Set the path to the edge-detected images\n",
        "edge_path = r'edges'\n",
        "\n",
        "# Create a new folder to store texture-enhanced images\n",
        "texture_path = r'texture'\n",
        "os.makedirs(texture_path, exist_ok=True)\n",
        "\n",
        "# Function to apply Canny edge detection\n",
        "def apply_canny_edge_detection(image):\n",
        "    edges = cv2.Canny(image, 50, 150)\n",
        "    return edges\n",
        "\n",
        "# Iterate through each folder in the edge dataset\n",
        "for folder_name in os.listdir(edge_path):\n",
        "    folder_path = os.path.join(edge_path, folder_name)\n",
        "\n",
        "    # Check if the item in the folder is a subdirectory\n",
        "    if os.path.isdir(folder_path):\n",
        "        # Create a new folder in the Texture directory\n",
        "        texture_folder_path = os.path.join(texture_path, folder_name)\n",
        "        os.makedirs(texture_folder_path, exist_ok=True)\n",
        "\n",
        "        # Iterate through each image in the folder\n",
        "        for image_name in os.listdir(folder_path):\n",
        "            image_path = os.path.join(folder_path, image_name)\n",
        "\n",
        "            # Read the edge-detected image using OpenCV\n",
        "            edge_image = cv2.imread(image_path, cv2.IMREAD_GRAYSCALE)\n",
        "\n",
        "            # Apply Canny edge detection\n",
        "            edges = apply_canny_edge_detection(edge_image)\n",
        "\n",
        "            # Apply smoothing (Gaussian Blur)\n",
        "            smoothed_image = cv2.GaussianBlur(edges, (5, 5), 0)\n",
        "\n",
        "            # Save the texture-enhanced images to the new folder\n",
        "            cv2.imwrite(os.path.join(texture_folder_path, f'smoothed_{image_name}'), smoothed_image)\n",
        "\n",
        "print(\"Texture enhancement completed with Canny edge detection.\")\n"
      ]
    },
    {
      "cell_type": "markdown",
      "metadata": {
        "id": "OnA_y2j1638J"
      },
      "source": [
        "After all these a folder named texture created for training"
      ]
    },
    {
      "cell_type": "markdown",
      "metadata": {
        "id": "8uY0OEFn7SQe"
      },
      "source": [
        "# Image feature extraction for test set"
      ]
    },
    {
      "cell_type": "markdown",
      "metadata": {
        "id": "TmelIrcX7aPa"
      },
      "source": [
        "**1. Resizing**"
      ]
    },
    {
      "cell_type": "code",
      "execution_count": null,
      "metadata": {
        "id": "3kMkuMlT7e2D"
      },
      "outputs": [],
      "source": [
        "# Set the path to your dataset\n",
        "dataset_path = r'flowers\\flowers\\test'\n",
        "\n",
        "# Set the desired size for your images\n",
        "target_size = (200, 200)\n",
        "\n",
        "# Create a new folder to store resized images\n",
        "resized_path = r'resized_test'\n",
        "os.makedirs(resized_path, exist_ok=True)\n",
        "\n",
        "# Iterate through each folder in the dataset\n",
        "for folder_name in os.listdir(dataset_path):\n",
        "    folder_path = os.path.join(dataset_path, folder_name)\n",
        "\n",
        "    # Check if the item in the folder is a subdirectory\n",
        "    if os.path.isdir(folder_path):\n",
        "        # Create a new folder in the resized directory\n",
        "        resized_folder_path = os.path.join(resized_path, folder_name)\n",
        "        os.makedirs(resized_folder_path, exist_ok=True)\n",
        "\n",
        "        # Iterate through each image in the folder\n",
        "        for image_name in os.listdir(folder_path):\n",
        "            image_path = os.path.join(folder_path, image_name)\n",
        "\n",
        "            # Read the image using OpenCV\n",
        "            image = cv2.imread(image_path)\n",
        "\n",
        "            # Resize the image\n",
        "            resized_image = cv2.resize(image, target_size)\n",
        "\n",
        "            # Save the resized image to the new folder\n",
        "            resized_image_path = os.path.join(resized_folder_path, image_name)\n",
        "            cv2.imwrite(resized_image_path, resized_image)\n",
        "\n",
        "print(\"Image resizing completed.\")\n"
      ]
    },
    {
      "cell_type": "markdown",
      "metadata": {
        "id": "EygsTRKm7wED"
      },
      "source": [
        "**2. Color space conversion to grayscale**"
      ]
    },
    {
      "cell_type": "code",
      "execution_count": null,
      "metadata": {
        "id": "PvK0-vSD76OG"
      },
      "outputs": [],
      "source": [
        "# Set the path to the resized dataset\n",
        "resized_path = r'resized_test'\n",
        "\n",
        "# Create a new folder to store grayscale images\n",
        "gray_path = r'grayscale_test'\n",
        "os.makedirs(gray_path, exist_ok=True)\n",
        "\n",
        "# Iterate through each folder in the resized dataset\n",
        "for folder_name in os.listdir(resized_path):\n",
        "    folder_path = os.path.join(resized_path, folder_name)\n",
        "\n",
        "    # Check if the item in the folder is a subdirectory\n",
        "    if os.path.isdir(folder_path):\n",
        "        # Create a new folder in the Grayscale directory\n",
        "        gray_folder_path = os.path.join(gray_path, folder_name)\n",
        "        os.makedirs(gray_folder_path, exist_ok=True)\n",
        "\n",
        "        # Iterate through each image in the folder\n",
        "        for image_name in os.listdir(folder_path):\n",
        "            image_path = os.path.join(folder_path, image_name)\n",
        "\n",
        "            # Read the resized image using OpenCV\n",
        "            resized_image = cv2.imread(image_path)\n",
        "\n",
        "            # Convert the color space to grayscale\n",
        "            gray_image = cv2.cvtColor(resized_image, cv2.COLOR_BGR2GRAY)\n",
        "\n",
        "            # Save the grayscale image to the new folder\n",
        "            gray_image_path = os.path.join(gray_folder_path, f'gray_{image_name}')\n",
        "            cv2.imwrite(gray_image_path, gray_image)\n",
        "\n",
        "print(\"Color space conversion to Grayscale completed.\")\n"
      ]
    },
    {
      "cell_type": "markdown",
      "metadata": {
        "id": "s6x-i-zq79cH"
      },
      "source": [
        "**3. Canny Edge Detection**"
      ]
    },
    {
      "cell_type": "code",
      "execution_count": null,
      "metadata": {
        "id": "8RyHOaBP8MM0"
      },
      "outputs": [],
      "source": [
        "# Set the path to the RGB dataset\n",
        "rgb_path = r'grayscale_test'\n",
        "\n",
        "# Create a new folder to store edge-detected images\n",
        "edge_path = r'edges_test'\n",
        "os.makedirs(edge_path, exist_ok=True)\n",
        "\n",
        "# Iterate through each folder in the RGB dataset\n",
        "for folder_name in os.listdir(rgb_path):\n",
        "    folder_path = os.path.join(rgb_path, folder_name)\n",
        "\n",
        "    # Check if the item in the folder is a subdirectory\n",
        "    if os.path.isdir(folder_path):\n",
        "        # Create a new folder in the Edge directory\n",
        "        edge_folder_path = os.path.join(edge_path, folder_name)\n",
        "        os.makedirs(edge_folder_path, exist_ok=True)\n",
        "\n",
        "        # Iterate through each image in the folder\n",
        "        for image_name in os.listdir(folder_path):\n",
        "            image_path = os.path.join(folder_path, image_name)\n",
        "\n",
        "            # Read the RGB image using OpenCV\n",
        "            rgb_image = cv2.imread(image_path)\n",
        "\n",
        "            # Convert the RGB image to grayscale\n",
        "            gray_image = cv2.cvtColor(rgb_image, cv2.COLOR_RGB2GRAY)\n",
        "\n",
        "            # Apply Canny Edge Detector\n",
        "            edges_canny = cv2.Canny(gray_image, 50, 150)\n",
        "\n",
        "            # Save the Canny edge-detected image to the new folder\n",
        "            cv2.imwrite(os.path.join(edge_folder_path, f'canny_{image_name}'), edges_canny)\n",
        "\n",
        "print(\"Canny edge detection completed.\")\n"
      ]
    },
    {
      "cell_type": "markdown",
      "metadata": {
        "id": "_qkef9Rq8QDA"
      },
      "source": [
        "**4. Texture Enhancement**"
      ]
    },
    {
      "cell_type": "code",
      "execution_count": null,
      "metadata": {
        "id": "_3gT2M_I8YL7"
      },
      "outputs": [],
      "source": [
        "# Set the path to the edge-detected images\n",
        "edge_path = r'edges_test'\n",
        "\n",
        "# Create a new folder to store texture-enhanced images\n",
        "texture_path = r'texture_test'\n",
        "os.makedirs(texture_path, exist_ok=True)\n",
        "\n",
        "# Function to apply Canny edge detection\n",
        "def apply_canny_edge_detection(image):\n",
        "    edges = cv2.Canny(image, 50, 150)\n",
        "    return edges\n",
        "\n",
        "# Iterate through each folder in the edge dataset\n",
        "for folder_name in os.listdir(edge_path):\n",
        "    folder_path = os.path.join(edge_path, folder_name)\n",
        "\n",
        "    # Check if the item in the folder is a subdirectory\n",
        "    if os.path.isdir(folder_path):\n",
        "        # Create a new folder in the Texture directory\n",
        "        texture_folder_path = os.path.join(texture_path, folder_name)\n",
        "        os.makedirs(texture_folder_path, exist_ok=True)\n",
        "\n",
        "        # Iterate through each image in the folder\n",
        "        for image_name in os.listdir(folder_path):\n",
        "            image_path = os.path.join(folder_path, image_name)\n",
        "\n",
        "            # Read the edge-detected image using OpenCV\n",
        "            edge_image = cv2.imread(image_path, cv2.IMREAD_GRAYSCALE)\n",
        "\n",
        "            # Apply Canny edge detection\n",
        "            edges = apply_canny_edge_detection(edge_image)\n",
        "\n",
        "            # Apply smoothing (Gaussian Blur)\n",
        "            smoothed_image = cv2.GaussianBlur(edge_image, (5, 5), 0)\n",
        "\n",
        "            # Apply sharpening\n",
        "            sharpened_image = cv2.addWeighted(edges, 1.5, smoothed_image, -0.5, 0)\n",
        "\n",
        "            # Save the texture-enhanced images to the new folder\n",
        "            cv2.imwrite(os.path.join(texture_folder_path, f'smoothed_{image_name}'), smoothed_image)\n",
        "\n",
        "print(\"Texture enhancement completed with Canny edge detection.\")\n"
      ]
    },
    {
      "cell_type": "markdown",
      "metadata": {
        "id": "cbwRfWBL8jJM"
      },
      "source": [
        "# Image feature extraction for validation set"
      ]
    },
    {
      "cell_type": "markdown",
      "metadata": {
        "id": "D31vghp88v8O"
      },
      "source": [
        "**1. Resizing**"
      ]
    },
    {
      "cell_type": "code",
      "execution_count": null,
      "metadata": {
        "id": "25MNLthU8zMx"
      },
      "outputs": [],
      "source": [
        "# Set the path to your dataset\n",
        "dataset_path = r'flowers\\flowers\\validation'\n",
        "\n",
        "# Set the desired size for your images\n",
        "target_size = (200, 200)\n",
        "\n",
        "# Create a new folder to store resized images\n",
        "resized_path = r'resized_validation'\n",
        "os.makedirs(resized_path, exist_ok=True)\n",
        "\n",
        "# Iterate through each folder in the dataset\n",
        "for folder_name in os.listdir(dataset_path):\n",
        "    folder_path = os.path.join(dataset_path, folder_name)\n",
        "\n",
        "    # Check if the item in the folder is a subdirectory\n",
        "    if os.path.isdir(folder_path):\n",
        "        # Create a new folder in the resized directory\n",
        "        resized_folder_path = os.path.join(resized_path, folder_name)\n",
        "        os.makedirs(resized_folder_path, exist_ok=True)\n",
        "\n",
        "        # Iterate through each image in the folder\n",
        "        for image_name in os.listdir(folder_path):\n",
        "            image_path = os.path.join(folder_path, image_name)\n",
        "\n",
        "            # Read the image using OpenCV\n",
        "            image = cv2.imread(image_path)\n",
        "\n",
        "            # Resize the image\n",
        "            resized_image = cv2.resize(image, target_size)\n",
        "\n",
        "            # Save the resized image to the new folder\n",
        "            resized_image_path = os.path.join(resized_folder_path, image_name)\n",
        "            cv2.imwrite(resized_image_path, resized_image)\n",
        "\n",
        "print(\"Image resizing completed.\")\n"
      ]
    },
    {
      "cell_type": "markdown",
      "metadata": {
        "id": "8WhGjU4k9SQn"
      },
      "source": [
        "**2. Color Space Conversion to grayscale**"
      ]
    },
    {
      "cell_type": "code",
      "execution_count": null,
      "metadata": {
        "id": "DrQU9p3F9XUE"
      },
      "outputs": [],
      "source": [
        "# Set the path to the resized dataset\n",
        "resized_path = r'resized_validation'\n",
        "\n",
        "# Create a new folder to store grayscale images\n",
        "gray_path = r'grayscale_validation'\n",
        "os.makedirs(gray_path, exist_ok=True)\n",
        "\n",
        "# Iterate through each folder in the resized dataset\n",
        "for folder_name in os.listdir(resized_path):\n",
        "    folder_path = os.path.join(resized_path, folder_name)\n",
        "\n",
        "    # Check if the item in the folder is a subdirectory\n",
        "    if os.path.isdir(folder_path):\n",
        "        # Create a new folder in the Grayscale directory\n",
        "        gray_folder_path = os.path.join(gray_path, folder_name)\n",
        "        os.makedirs(gray_folder_path, exist_ok=True)\n",
        "\n",
        "        # Iterate through each image in the folder\n",
        "        for image_name in os.listdir(folder_path):\n",
        "            image_path = os.path.join(folder_path, image_name)\n",
        "\n",
        "            # Read the resized image using OpenCV\n",
        "            resized_image = cv2.imread(image_path)\n",
        "\n",
        "            # Convert the color space to grayscale\n",
        "            gray_image = cv2.cvtColor(resized_image, cv2.COLOR_BGR2GRAY)\n",
        "\n",
        "            # Save the grayscale image to the new folder\n",
        "            gray_image_path = os.path.join(gray_folder_path, f'gray_{image_name}')\n",
        "            cv2.imwrite(gray_image_path, gray_image)\n",
        "\n",
        "print(\"Color space conversion to Grayscale completed.\")\n"
      ]
    },
    {
      "cell_type": "markdown",
      "metadata": {
        "id": "WLHeOiUH9fxM"
      },
      "source": [
        "**3. Canny Edge Detection**"
      ]
    },
    {
      "cell_type": "code",
      "execution_count": null,
      "metadata": {
        "id": "DSQE-Gi99jat"
      },
      "outputs": [],
      "source": [
        "# Set the path to the RGB dataset\n",
        "rgb_path = r'grayscale_validation'\n",
        "\n",
        "# Create a new folder to store edge-detected images\n",
        "edge_path = r'edges_validation'\n",
        "os.makedirs(edge_path, exist_ok=True)\n",
        "\n",
        "# Iterate through each folder in the RGB dataset\n",
        "for folder_name in os.listdir(rgb_path):\n",
        "    folder_path = os.path.join(rgb_path, folder_name)\n",
        "\n",
        "    # Check if the item in the folder is a subdirectory\n",
        "    if os.path.isdir(folder_path):\n",
        "        # Create a new folder in the Edge directory\n",
        "        edge_folder_path = os.path.join(edge_path, folder_name)\n",
        "        os.makedirs(edge_folder_path, exist_ok=True)\n",
        "\n",
        "        # Iterate through each image in the folder\n",
        "        for image_name in os.listdir(folder_path):\n",
        "            image_path = os.path.join(folder_path, image_name)\n",
        "\n",
        "            # Read the RGB image using OpenCV\n",
        "            rgb_image = cv2.imread(image_path)\n",
        "\n",
        "            # Convert the RGB image to grayscale\n",
        "            gray_image = cv2.cvtColor(rgb_image, cv2.COLOR_RGB2GRAY)\n",
        "\n",
        "            # Apply Canny Edge Detector\n",
        "            edges_canny = cv2.Canny(gray_image, 50, 150)\n",
        "\n",
        "            # Save the Canny edge-detected image to the new folder\n",
        "            cv2.imwrite(os.path.join(edge_folder_path, f'canny_{image_name}'), edges_canny)\n",
        "\n",
        "print(\"Canny edge detection completed.\")\n"
      ]
    },
    {
      "cell_type": "markdown",
      "metadata": {
        "id": "5moTYdq29qyX"
      },
      "source": [
        "**4. Texture Enhancement**"
      ]
    },
    {
      "cell_type": "code",
      "execution_count": null,
      "metadata": {
        "id": "i8MjE9Do9wY4"
      },
      "outputs": [],
      "source": [
        "# Set the path to the edge-detected images\n",
        "edge_path = r'edges_validation'\n",
        "\n",
        "# Create a new folder to store texture-enhanced images\n",
        "texture_path = r'texture_validation'\n",
        "os.makedirs(texture_path, exist_ok=True)\n",
        "\n",
        "# Function to apply Canny edge detection\n",
        "def apply_canny_edge_detection(image):\n",
        "    edges = cv2.Canny(image, 50, 150)\n",
        "    return edges\n",
        "\n",
        "# Iterate through each folder in the edge dataset\n",
        "for folder_name in os.listdir(edge_path):\n",
        "    folder_path = os.path.join(edge_path, folder_name)\n",
        "\n",
        "    # Check if the item in the folder is a subdirectory\n",
        "    if os.path.isdir(folder_path):\n",
        "        # Create a new folder in the Texture directory\n",
        "        texture_folder_path = os.path.join(texture_path, folder_name)\n",
        "        os.makedirs(texture_folder_path, exist_ok=True)\n",
        "\n",
        "        # Iterate through each image in the folder\n",
        "        for image_name in os.listdir(folder_path):\n",
        "            image_path = os.path.join(folder_path, image_name)\n",
        "\n",
        "            # Read the edge-detected image using OpenCV\n",
        "            edge_image = cv2.imread(image_path, cv2.IMREAD_GRAYSCALE)\n",
        "\n",
        "            # Apply Canny edge detection\n",
        "            edges = apply_canny_edge_detection(edge_image)\n",
        "\n",
        "            # Apply smoothing (Gaussian Blur)\n",
        "            smoothed_image = cv2.GaussianBlur(edge_image, (5, 5), 0)\n",
        "\n",
        "            # Save the texture-enhanced images to the new folder\n",
        "            cv2.imwrite(os.path.join(texture_folder_path, f'smoothed_{image_name}'), smoothed_image)\n",
        "\n",
        "print(\"Texture enhancement completed with Canny edge detection.\")"
      ]
    },
    {
      "cell_type": "code",
      "execution_count": null,
      "metadata": {
        "id": "zc_kT2GC1otE"
      },
      "outputs": [],
      "source": [
        "class Node:\n",
        "    def __init__(self, feature_index=None, threshold=None, left=None, right=None, value=None):\n",
        "        self.feature_index = feature_index  # Index of the feature to split on\n",
        "        self.threshold = threshold  # Threshold value for the split\n",
        "        self.left = left  # Left subtree\n",
        "        self.right = right  # Right subtree\n",
        "        self.value = value  # Class label for leaf nodes\n",
        "\n",
        "def gini_impurity(y):\n",
        "    classes, counts = np.unique(y, return_counts=True)\n",
        "    probabilities = counts / len(y)\n",
        "    gini = 1 - np.sum(probabilities**2)\n",
        "    return gini\n",
        "\n",
        "\n",
        "\n",
        "def split_dataset(X, y, feature_index, threshold):\n",
        "    left_mask = X[:, feature_index] <= threshold\n",
        "    right_mask = ~left_mask\n",
        "    return X[left_mask], y[left_mask], X[right_mask], y[right_mask]\n",
        "\n",
        "def find_best_split(X, y):\n",
        "    num_features = X.shape[1]\n",
        "    best_gini = float('inf')\n",
        "    best_feature_index = None\n",
        "    best_threshold = None\n",
        "\n",
        "    for feature_index in range(num_features):\n",
        "        thresholds = np.unique(X[:, feature_index])\n",
        "        for threshold in thresholds:\n",
        "            X_left, y_left, X_right, y_right = split_dataset(X, y, feature_index, threshold)\n",
        "            gini = (len(y_left) * gini_impurity(y_left) + len(y_right) * gini_impurity(y_right)) / len(y)\n",
        "\n",
        "            if gini < best_gini:\n",
        "                best_gini = gini\n",
        "                best_feature_index = feature_index\n",
        "                best_threshold = threshold\n",
        "\n",
        "    return best_feature_index, best_threshold\n",
        "\n",
        "def build_tree(X, y, depth=0, max_depth=None, label_mapping=None):\n",
        "    if label_mapping is None:\n",
        "        label_mapping = {}\n",
        "\n",
        "    if depth == max_depth or len(np.unique(y)) == 1:\n",
        "        # Create a leaf node\n",
        "        unique_labels, counts = np.unique(y, return_counts=True)\n",
        "        mapped_labels = [label_mapping[label] if label in label_mapping else (label_mapping.setdefault(label, len(label_mapping)), label_mapping[label])[1] for label in unique_labels]\n",
        "        return Node(value=unique_labels[np.argmax(counts)])\n",
        "\n",
        "    feature_index, threshold = find_best_split(X, y)\n",
        "    if feature_index is None:\n",
        "        # No split found\n",
        "        return Node(value=np.unique(y)[np.argmax(np.bincount(y))])\n",
        "\n",
        "    # Recursively build subtrees\n",
        "    X_left, y_left, X_right, y_right = split_dataset(X, y, feature_index, threshold)\n",
        "    left_subtree = build_tree(X_left, y_left, depth + 1, max_depth, label_mapping)\n",
        "    right_subtree = build_tree(X_right, y_right, depth + 1, max_depth, label_mapping)\n",
        "\n",
        "    return Node(feature_index=feature_index, threshold=threshold, left=left_subtree, right=right_subtree)\n",
        "\n",
        "# Make predictions (you would typically have a separate function for this)\n",
        "def predict(node, sample):\n",
        "    if node.value is not None:\n",
        "        return node.value\n",
        "\n",
        "    if sample[node.feature_index] <= node.threshold:\n",
        "        return predict(node.left, sample)\n",
        "    else:\n",
        "        return predict(node.right, sample)\n"
      ]
    },
    {
      "cell_type": "markdown",
      "metadata": {
        "id": "n0X3GHo3WkAJ"
      },
      "source": [
        "## Explanation of Decision Tree Algorithm Code\n",
        "\n",
        "This code implements a decision tree algorithm for classification. It uses the Gini impurity measure to choose the best feature and threshold for splitting the data. Here's a detailed explanation of each function:\n",
        "\n",
        "**1. Node Class:**\n",
        "\n",
        "This class defines the structure of a node in the decision tree. Each node has the following attributes:\n",
        "\n",
        "* `feature_index`: The feature used to split the data at this node (index).\n",
        "* `threshold`: The value used to split the data at this node.\n",
        "* `left`: The left child node.\n",
        "* `right`: The right child node.\n",
        "* `value`: The predicted class label for this node (if it's a leaf node).\n",
        "\n",
        "**2. gini_impurity function:**\n",
        "\n",
        "This function calculates the gini impurity for a given set of labels. Gini impurity measures how mixed the classes are in the dataset. It's 0 for pure datasets (all data points belong to the same class) and 1 for completely mixed datasets.\n",
        "\n",
        "**3. split_dataset function:**\n",
        "\n",
        "This function splits the data into two subsets based on a given feature and threshold. It uses two masks:\n",
        "\n",
        "* `left_mask`: selects data points where the feature value is less than or equal to the threshold.\n",
        "* `right_mask`: selects data points where the feature value is greater than the threshold.\n",
        "\n",
        "**4. find_best_split function:**\n",
        "\n",
        "This function finds the best feature and threshold to split the data using the gini impurity measure. It iterates through all features and thresholds, calculating the gini impurity for each split. The best split minimizes the gini impurity.\n",
        "\n",
        "**5. build_tree function:**\n",
        "\n",
        "This function recursively builds the decision tree. It checks three conditions:\n",
        "\n",
        "* **Depth limit reached or pure node:** If the maximum depth is reached or all data points belong to the same class, a leaf node is created with the majority class label.\n",
        "* **No split found:** If no split minimizes the gini impurity (all splits are equally bad), a leaf node is created with the majority class label.\n",
        "* **Valid split found:** Otherwise, the best feature and threshold are chosen to split the data. The function then recursively builds the left and right subtrees.\n",
        "\n",
        "**6. predict function (not included in the provided code):**\n",
        "\n",
        "This function predicts the class label for a new data point by traversing the decision tree. It starts at the root node and follows the branches based on the data point's feature values. When reaching a leaf node, the predicted class label is returned.\n",
        "\n",
        "**Overall Workflow:**\n",
        "\n",
        "1. Build the decision tree by calling `build_tree(X, y)`\n",
        "2. For each new data point:\n",
        "    * Call `predict(node, data_point)` to get the predicted class label\n",
        "\n",
        "This code provides a basic implementation of a decision tree algorithm for classification. It uses the gini impurity measure and a recursive approach to build the tree. You can further improve it by implementing additional features such as:\n",
        "\n",
        "* Handling missing values.\n",
        "* Pruning the tree to avoid overfitting.\n",
        "* Using different splitting criteria like entropy or information gain.\n",
        "* Implementing other decision tree algorithms like CART or ID3."
      ]
    },
    {
      "cell_type": "code",
      "execution_count": null,
      "metadata": {
        "id": "x3QXqRzD4AZg"
      },
      "outputs": [],
      "source": [
        "def extract_features_from_image(image_path):\n",
        "    # Example: Use color histograms as features\n",
        "    image = cv2.imread(image_path)\n",
        "    hist = cv2.calcHist([image], [0, 1, 2], None, [8, 8, 8], [0, 256, 0, 256, 0, 256])\n",
        "    hist = hist.flatten()\n",
        "    return hist\n",
        "\n",
        "def load_dataset(root_folder):\n",
        "    X = []  # Features\n",
        "    y = []  # Labels\n",
        "\n",
        "    class_folders = os.listdir(root_folder)\n",
        "    for class_folder in class_folders:\n",
        "        class_path = os.path.join(root_folder, class_folder)\n",
        "        if os.path.isdir(class_path):\n",
        "            images = os.listdir(class_path)\n",
        "            for image in images:\n",
        "                image_path = os.path.join(class_path, image)\n",
        "                features = extract_features_from_image(image_path)\n",
        "                label = int(class_folder)  # Class folders are named with integers\n",
        "                X.append(features)\n",
        "                y.append(label)\n",
        "\n",
        "    return np.array(X), np.array(y)\n"
      ]
    },
    {
      "cell_type": "markdown",
      "metadata": {
        "id": "-z3WDzIQXoy5"
      },
      "source": [
        "This code defines two functions for:\n",
        "\n",
        "1. **Extracting features from an image:**\n",
        "2. **Loading a dataset of images and labels:**\n",
        "\n",
        "**1. `extract_features_from_image(image_path)`:**\n",
        "\n",
        "* **Function:** This function extracts features from an image and returns them as a flattened array.\n",
        "* **Example:** It uses OpenCV's `cv2.calcHist` function to calculate a 3D color histogram for the image. The histogram is then flattened and returned.\n",
        "* **Customizable:** The feature extraction method can be replaced with any other suitable method, depending on the specific problem and desired features.\n",
        "\n",
        "**2. `load_dataset(root_folder)`:**\n",
        "\n",
        "* **Function:** This function loads a dataset of images and their corresponding labels from a given directory structure.\n",
        "* **Process:**\n",
        "    * **List class folders:** It lists all subfolders within the provided `root_folder`.\n",
        "    * **Iterate over class folders:** For each class folder:\n",
        "        * **Check if it's a valid directory:** It checks if the folder is a valid directory.\n",
        "        * **List images:** It lists all image files within the class directory.\n",
        "        * **Iterate over images:** For each image:\n",
        "            * **Extract features:** It calls `extract_features_from_image` to obtain the image features.\n",
        "            * **Extract label:** It assumes the class folder name is an integer and uses it as the image label.\n",
        "            * **Append features and labels:** It appends the extracted features and labels to the respective lists (`X` and `y`).\n",
        "    * **Return:** Finally, the function returns the features and labels as NumPy arrays.\n",
        "\n",
        "**Assumptions:**\n",
        "\n",
        "* This code assumes that the dataset is organized with class folders, where each folder contains images of the same class.\n",
        "* It also assumes the class folder names are integers and can be used directly as labels.\n",
        "\n",
        "**Improvements:**\n",
        "\n",
        "* **More robust label handling:** Instead of assuming integer class folder names, you can implement a more robust label handling mechanism, such as reading labels from a separate file.\n",
        "* **Multiple feature extraction:** Extend the code to support extracting multiple types of features, such as texture, shape, or other relevant features.\n",
        "* **Splitting data:** Consider adding functionality to split the loaded data into training, validation, and test sets for accurate model evaluation.\n",
        "\n"
      ]
    },
    {
      "cell_type": "code",
      "execution_count": null,
      "metadata": {
        "id": "Ecg-t8yO4eaR"
      },
      "outputs": [],
      "source": [
        "# Assuming you have already defined functions extract_features_from_image, build_tree, and predict\n",
        "\n",
        "def load_dataset(root_folder):\n",
        "    X = []  # Features\n",
        "    y = []  # Labels\n",
        "\n",
        "    class_folders = os.listdir(root_folder)\n",
        "    for class_folder in class_folders:\n",
        "        class_path = os.path.join(root_folder, class_folder)\n",
        "        if os.path.isdir(class_path):\n",
        "            images = os.listdir(class_path)\n",
        "            for image in images:\n",
        "                image_path = os.path.join(class_path, image)\n",
        "                features = extract_features_from_image(image_path)\n",
        "                label = class_folder  # Class folders are named with integers\n",
        "                X.append(features)\n",
        "                y.append(label)\n",
        "\n",
        "    return np.array(X), np.array(y)\n",
        "\n",
        "# Load your datasets\n",
        "root_train = 'texture'\n",
        "root_validation = 'texture_validation'\n",
        "root_test = 'texture_test'\n",
        "\n",
        "X_train, y_train = load_dataset(root_train)\n",
        "X_validation, y_validation = load_dataset(root_validation)\n",
        "X_test, y_test = load_dataset(root_test)\n",
        "\n",
        "# Build the decision tree on the training set\n",
        "tree = build_tree(X_train, y_train)\n",
        "\n",
        "# Make predictions on the validation set\n",
        "y_validation_pred = np.array([predict(tree, sample) for sample in X_validation])\n",
        "\n",
        "# Make predictions on the test set\n",
        "y_test_pred = np.array([predict(tree, sample) for sample in X_test])\n",
        "\n",
        "# Calculate metrics\n",
        "def calculate_metrics(y_true, y_pred):\n",
        "    accuracy = accuracy_score(y_true, y_pred)\n",
        "    precision = precision_score(y_true, y_pred, average='weighted')\n",
        "    recall = recall_score(y_true, y_pred, average='weighted')\n",
        "    f1 = f1_score(y_true, y_pred, average='weighted')\n",
        "    return accuracy, precision, recall, f1\n",
        "\n",
        "# Metrics for the validation set\n",
        "accuracy_validation, precision_validation, recall_validation, f1_validation = calculate_metrics(y_validation, y_validation_pred)\n",
        "\n",
        "# Metrics for the test set\n",
        "accuracy_test, precision_test, recall_test, f1_test = calculate_metrics(y_test, y_test_pred)\n"
      ]
    },
    {
      "cell_type": "markdown",
      "metadata": {
        "id": "BsQOieu3YRSQ"
      },
      "source": [
        "## Explanation of Image Classification Pipeline Code\n",
        "\n",
        "This code describes the pipeline for image classification using a decision tree algorithm. It involves loading datasets, building the decision tree, making predictions, and calculating performance metrics.\n",
        "\n",
        "**1. Data Loading:**\n",
        "\n",
        "* **`load_dataset` function:**\n",
        "    * Reads images from class folders within a provided root directory.\n",
        "    * Extracts features for each image using `extract_features_from_image`.\n",
        "    * Assumes class folder names are labels.\n",
        "    * Returns features and labels as NumPy arrays.\n",
        "* **Loads data from three folders:**\n",
        "    * `root_train`: Training dataset.\n",
        "    * `root_validation`: Validation dataset.\n",
        "    * `root_test`: Test dataset.\n",
        "\n",
        "**2. Building the Decision Tree:**\n",
        "\n",
        "* **Calls `build_tree(X_train, y_train)`:**\n",
        "    * Uses the training data features (`X_train`) and labels (`y_train`) to build the decision tree.\n",
        "    * Assumes the `build_tree` function is already defined.\n",
        "\n",
        "**3. Making Predictions:**\n",
        "\n",
        "* **Uses `predict(tree, sample)` for individual image prediction:**\n",
        "    * Applies the built decision tree (`tree`) to each sample in the validation and test sets (`X_validation` and `X_test`).\n",
        "    * Assumes the `predict` function is already defined.\n",
        "* **Calculates predicted labels as arrays:**\n",
        "    * `y_validation_pred`: Predicted labels for validation set.\n",
        "    * `y_test_pred`: Predicted labels for test set.\n",
        "\n",
        "**4. Calculating Metrics:**\n",
        "\n",
        "* **`calculate_metrics(y_true, y_pred)` function:**\n",
        "    * Calculates four performance metrics:\n",
        "        * Accuracy: Proportion of correctly classified images.\n",
        "        * Precision: Rate of correctly predicted positive cases among all predicted positives.\n",
        "        * Recall: Rate of correctly identified positive cases among all actual positive cases.\n",
        "        * F1-score: Harmonic mean of precision and recall.\n",
        "* **Calculates metrics for validation and test sets:**\n",
        "    * `accuracy_validation`, `precision_validation`, etc.: Metrics for validation set.\n",
        "    * `accuracy_test`, `precision_test`, etc.: Metrics for test set.\n",
        "\n",
        "**Overall Flow:**\n",
        "\n",
        "1. Load training, validation, and test datasets.\n",
        "2. Build a decision tree using the training data.\n",
        "3. Make predictions on the validation and test sets.\n",
        "4. Calculate performance metrics for both sets.\n",
        "\n"
      ]
    },
    {
      "cell_type": "code",
      "execution_count": null,
      "metadata": {
        "colab": {
          "base_uri": "https://localhost:8080/"
        },
        "id": "aza7y8tQ5wk_",
        "outputId": "17768f93-615b-4ded-cc03-7c8bf4039c3c"
      },
      "outputs": [
        {
          "name": "stdout",
          "output_type": "stream",
          "text": [
            "Validation Set Metrics:\n",
            "Accuracy: 13.40%\n",
            "Precision: 10.75%\n",
            "Recall: 13.40%\n",
            "F1 Score: 11.58%\n",
            "\n",
            "Test Set Metrics:\n",
            "Accuracy: 16.20%\n",
            "Precision: 12.92%\n",
            "Recall: 16.20%\n",
            "F1 Score: 13.75%\n"
          ]
        }
      ],
      "source": [
        "# Print the results\n",
        "print(\"Validation Set Metrics:\")\n",
        "print(\"Accuracy: {:.2%}\".format(accuracy_validation))\n",
        "print(\"Precision: {:.2%}\".format(precision_validation))\n",
        "print(\"Recall: {:.2%}\".format(recall_validation))\n",
        "print(\"F1 Score: {:.2%}\".format(f1_validation))\n",
        "\n",
        "print(\"\\nTest Set Metrics:\")\n",
        "print(\"Accuracy: {:.2%}\".format(accuracy_test))\n",
        "print(\"Precision: {:.2%}\".format(precision_test))\n",
        "print(\"Recall: {:.2%}\".format(recall_test))\n",
        "print(\"F1 Score: {:.2%}\".format(f1_test))\n",
        "\n"
      ]
    },
    {
      "cell_type": "code",
      "execution_count": null,
      "metadata": {
        "colab": {
          "base_uri": "https://localhost:8080/",
          "height": 472
        },
        "id": "dwlpGEIM-UBi",
        "outputId": "7f7ceeb7-05a4-4934-9bb5-24709e327e1d"
      },
      "outputs": [
        {
          "data": {
            "image/png": "[encoded data removed]",
            "text/plain": [
              "<Figure size 640x480 with 1 Axes>"
            ]
          },
          "metadata": {},
          "output_type": "display_data"
        }
      ],
      "source": [
        "# Data\n",
        "metrics = ['Accuracy', 'Precision', 'Recall', 'F1 Score']\n",
        "validation_values = [accuracy_validation, precision_validation, recall_validation, f1_validation]\n",
        "test_values = [accuracy_test, precision_test, recall_test, f1_test]\n",
        "\n",
        "# Plotting\n",
        "bar_width = 0.35\n",
        "index = range(len(metrics))\n",
        "\n",
        "fig, ax = plt.subplots()\n",
        "bar1 = ax.bar(index, validation_values, bar_width, label='Validation')\n",
        "bar2 = ax.bar([i + bar_width for i in index], test_values, bar_width, label='Test')\n",
        "\n",
        "# Formatting\n",
        "ax.set_xlabel('Metrics')\n",
        "ax.set_ylabel('Percentage')\n",
        "ax.set_title('Validation and Test Metrics')\n",
        "ax.set_xticks([i + bar_width / 2 for i in index])\n",
        "ax.set_xticklabels(metrics)\n",
        "ax.legend()\n",
        "\n",
        "# Display the values on top of the bars\n",
        "for bar in [bar1, bar2]:\n",
        "    for rect in bar:\n",
        "        height = rect.get_height()\n",
        "        ax.annotate('%.2f%%' % (height * 100),\n",
        "                    xy=(rect.get_x() + rect.get_width() / 2, height),\n",
        "                    xytext=(0, 3),  # 3 points vertical offset\n",
        "                    textcoords=\"offset points\",\n",
        "                    ha='center', va='bottom')\n",
        "\n",
        "plt.show()\n"
      ]
    },
    {
      "cell_type": "markdown",
      "metadata": {
        "id": "zbyGLjVaYrMI"
      },
      "source": [
        "## Explanation of Data Visualization Code\n",
        "\n",
        "This code visualizes the performance metrics of the decision tree model for both validation and test datasets.\n",
        "\n",
        "**1. Data Preparation:**\n",
        "\n",
        "* **`metrics`:** Defines a list of performance metrics to be displayed (accuracy, precision, recall, F1 score).\n",
        "* **`validation_values`:** Stores the calculated performance metric values for the validation set.\n",
        "* **`test_values`:** Stores the calculated performance metric values for the test set.\n",
        "\n",
        "**2. Plotting Setup:**\n",
        "\n",
        "* **`fig, ax = plt.subplots()`: Creates a figure and an axis for plotting.**\n",
        "* **`bar_width`:** Defines the width of each bar in the chart.\n",
        "* **`index`:** Creates a range of indices for each pair of validation and test metrics.\n",
        "\n",
        "**3. Creating Bars:**\n",
        "\n",
        "* **`bar1 = ax.bar(index, validation_values, bar_width, label='Validation')`:**\n",
        "    * Plots bars for validation values starting at positions defined by `index` with the specified `bar_width`.\n",
        "    * Sets the label for the bars as \"Validation\".\n",
        "* **`bar2 = ax.bar([i + bar_width for i in index], test_values, bar_width, label='Test')`:**\n",
        "    * Plots bars for test values starting at positions one `bar_width` offset from validation positions.\n",
        "    * Sets the label for the bars as \"Test\".\n",
        "\n",
        "**4. Formatting:**\n",
        "\n",
        "* **Setting axis labels:**\n",
        "    * X-axis: \"Metrics\"\n",
        "    * Y-axis: \"Percentage\"\n",
        "    * Title: \"Validation and Test Metrics\"\n",
        "* **Setting tick labels and positions:**\n",
        "    * X-axis ticks are set at the center of each bar pair.\n",
        "    * Tick labels correspond to metrics from the `metrics` list.\n",
        "* **Adding legend:** Differentiates between validation and test bars.\n",
        "\n",
        "**5. Displaying Values on Bars:**\n",
        "\n",
        "* Iterates through all bars in `bar1` and `bar2`.\n",
        "* For each bar, calculates its height and uses `annotate` to display the corresponding percentage value above the bar.\n",
        "* The annotation is offset slightly for better visibility and aligned horizontally to the center of the bar.\n",
        "\n",
        "**6. Showing the Plot:**\n",
        "\n",
        "* Calls `plt.show()` to display the generated plot with all formatting and annotations.\n",
        "\n",
        "**Overall Function:**\n",
        "\n",
        "This code creates a visually appealing bar chart to compare the performance of the decision tree model on both validation and test datasets across different metrics. It allows for easy evaluation and comparison of model performance on the two sets.\n"
      ]
    },
    {
      "cell_type": "markdown",
      "metadata": {
        "id": "mmHrL6Bd0Zqr"
      },
      "source": [
        "# **Error Analysis for Classification**"
      ]
    },
    {
      "cell_type": "markdown",
      "metadata": {
        "id": "vDSwFu781MEI"
      },
      "source": [
        "\n",
        "\n",
        "*   In the context of utilizing this function, despite the overall low accuracy across various metrics, it is noteworthy that the test values exhibit superior performance compared to the validation values.\n",
        "*   Given that the function requires more than 10 minutes to run and produces unsatisfactory metrics, it can be concluded that employing a decision tree for image processing may not be a suitable approach.\n",
        "\n"
      ]
    },
    {
      "cell_type": "markdown",
      "metadata": {
        "id": "Vz-FdW9kHz74"
      },
      "source": [
        "# Part 2"
      ]
    },
    {
      "cell_type": "code",
      "execution_count": null,
      "metadata": {
        "id": "72AoAxlOd56A"
      },
      "outputs": [],
      "source": [
        "class PrunedNode:\n",
        "    def __init__(self, value=None):\n",
        "        self.value = value\n",
        "        self.children = []\n",
        "\n",
        "def prune_tree(node, X_validation, y_validation):\n",
        "    # Step 1: Catalog all twigs in the tree\n",
        "    twigs = []\n",
        "    catalog_twigs(node, twigs)\n",
        "\n",
        "    last_accuracy = calculate_accuracy(node, X_validation, y_validation)\n",
        "\n",
        "    while True:\n",
        "        # Step 2: Find the twig with the least Information Gain\n",
        "        best_twig = find_best_twig(twigs, X_validation, y_validation)\n",
        "\n",
        "        if best_twig is None:\n",
        "            break  # No more pruning possible\n",
        "\n",
        "        # Step 3: Remove all child nodes of the twig\n",
        "        best_twig.children = []\n",
        "\n",
        "        # Step 4: Relabel the twig as a leaf\n",
        "        best_twig.value = calculate_majority_label(X_validation, y_validation)\n",
        "\n",
        "        # Step 5: Measure the accuracy value of your decision tree model with the removed twig\n",
        "        current_accuracy = calculate_accuracy(node, X_validation, y_validation)\n",
        "\n",
        "        # If Current Accuracy ≥ Last Accuracy: Jump to Step 1\n",
        "        if current_accuracy >= last_accuracy:\n",
        "            last_accuracy = current_accuracy\n",
        "        else:\n",
        "            # Revert the last changes done in Step 3, 4\n",
        "            best_twig.children = twigs.pop(twigs.index(best_twig))\n",
        "\n",
        "    return node\n",
        "\n",
        "def catalog_twigs(node, twigs):\n",
        "    if not node.left and not node.right:\n",
        "        return\n",
        "\n",
        "    if node.left and not node.right:\n",
        "        twigs.append(node.left)\n",
        "        catalog_twigs(node.left, twigs)\n",
        "    elif not node.left and node.right:\n",
        "        twigs.append(node.right)\n",
        "        catalog_twigs(node.right, twigs)\n",
        "    else:\n",
        "        catalog_twigs(node.left, twigs)\n",
        "        catalog_twigs(node.right, twigs)\n",
        "\n",
        "def find_best_twig(twigs, X_validation, y_validation):\n",
        "    best_twig = None\n",
        "    min_info_gain = float('inf')\n",
        "\n",
        "    for twig in twigs:\n",
        "        # Calculate information gain for each twig\n",
        "        info_gain = calculate_info_gain(twig, X_validation, y_validation)\n",
        "\n",
        "        if info_gain < min_info_gain:\n",
        "            min_info_gain = info_gain\n",
        "            best_twig = twig\n",
        "\n",
        "    return best_twig\n",
        "\n",
        "def calculate_info_gain(node, X_validation, y_validation):\n",
        "    # Calculate information gain for the twig based on your decision tree logic\n",
        "    # You can reuse the logic from your find_best_split and gini_impurity functions\n",
        "\n",
        "    if node.value is not None:\n",
        "        return 0  # Leaf node, no information gain\n",
        "\n",
        "    # Calculate gini impurity for the current twig\n",
        "    current_gini = gini_impurity(y_validation)\n",
        "\n",
        "    # Calculate weighted average gini impurity for the left and right subtrees\n",
        "    X_left, y_left, X_right, y_right = split_dataset(X_validation, y_validation, node.feature_index, node.threshold)\n",
        "    left_gini = len(y_left) / len(y_validation) * gini_impurity(y_left)\n",
        "    right_gini = len(y_right) / len(y_validation) * gini_impurity(y_right)\n",
        "\n",
        "    info_gain = current_gini - (left_gini + right_gini)\n",
        "    return info_gain\n",
        "\n",
        "def calculate_majority_label(X_validation, y_validation):\n",
        "    # Calculate and return the majority label for a twig\n",
        "    # You can use the same logic as in your decision tree, but only considering the samples in the twig\n",
        "    unique_labels, counts = np.unique(y_validation, return_counts=True)\n",
        "    majority_label = unique_labels[np.argmax(counts)]\n",
        "    return majority_label\n",
        "\n",
        "def calculate_accuracy(node, X_validation, y_validation):\n",
        "    # Implement a function to calculate the accuracy of the decision tree on the validation set\n",
        "    # You can use the predict function and compare the predictions with y_validation\n",
        "    y_validation_pred = np.array([predict(node, sample) for sample in X_validation])\n",
        "    accuracy = accuracy_score(y_validation, y_validation_pred)\n",
        "    return accuracy\n"
      ]
    },
    {
      "cell_type": "markdown",
      "metadata": {
        "id": "_cc82bTRZAZA"
      },
      "source": [
        "## Explanation of Decision Tree Pruning Code\n",
        "\n",
        "This code defines functions to prune a decision tree to improve its performance.\n",
        "\n",
        "**1. Class `PrunedNode`:**\n",
        "\n",
        "* Defines a simplified node structure for pruned trees.\n",
        "* Each node stores a value (predicted class label for leaf nodes) and a list of child nodes.\n",
        "\n",
        "**2. Function `prune_tree`:**\n",
        "\n",
        "* This function iteratively prunes the tree based on information gain.\n",
        "* **Step 1: Catalog all twigs:**\n",
        "    * Uses `catalog_twigs` to identify all leaf nodes (twigs) in the tree.\n",
        "* **Step 2: Find best twig:**\n",
        "    * Iterates through `twigs` and calculates the information gain for removing each one.\n",
        "    * The twig with the least information gain (most beneficial to remove) becomes the `best_twig`.\n",
        "* **Step 3-5: Prune the best twig:**\n",
        "    * If no `best_twig` is found, the pruning process stops.\n",
        "    * Otherwise, the twig's child nodes are removed, and its value is set to the majority class label for the data points associated with the twig.\n",
        "* **Step 6: Check accuracy:**\n",
        "    * After each pruning step, the tree's accuracy is calculated on the validation set.\n",
        "    * If the new accuracy is not better than the previous one, the pruning step is reverted.\n",
        "* **Output:**\n",
        "    * The function returns the pruned tree with improved performance.\n",
        "\n",
        "**3. Function `catalog_twigs`:**\n",
        "\n",
        "* Recursively identifies all leaf nodes in the tree and adds them to the `twigs` list.\n",
        "* Stops when both left and right children are None (leaf node reached).\n",
        "\n",
        "**4. Function `find_best_twig`:**\n",
        "\n",
        "* Iterates through all `twigs` and calculates the information gain for each one.\n",
        "* Information gain is calculated using the `calculate_info_gain` function.\n",
        "* The twig with the minimum information gain is returned as the `best_twig`.\n",
        "\n",
        "**5. Function `calculate_info_gain`:**\n",
        "\n",
        "* This function calculates the information gain for removing a specific twig.\n",
        "* It uses the same logic as the `find_best_split` function from the previous code.\n",
        "* It calculates the gini impurity for the twig and its subtrees and returns the difference.\n",
        "\n",
        "**6. Function `calculate_majority_label`:**\n",
        "\n",
        "* This function calculates the majority class label for a given twig.\n",
        "* It only considers the data points associated with the twig and returns the most frequent class label.\n",
        "\n",
        "**7. Function `calculate_accuracy`:**\n",
        "\n",
        "* This function calculates the accuracy of the decision tree model on the validation set.\n",
        "* It uses the `predict` function to predict class labels for all data points and compares them with the actual labels in `y_validation`.\n",
        "* The final accuracy is returned.\n",
        "\n",
        "**Overall Function:**\n",
        "\n",
        "This code provides a framework for pruning a decision tree using information gain. The pruning process iteratively removes the least informative branches (twigs) while ensuring the overall accuracy remains high. This can help to improve the model's generalizability and prevent overfitting.\n"
      ]
    },
    {
      "cell_type": "code",
      "execution_count": null,
      "metadata": {
        "id": "dssYyijUzF1t"
      },
      "outputs": [],
      "source": [
        "# Assuming you have already built the decision tree using the build_tree function\n",
        "pruned_tree = prune_tree(tree, X_validation, y_validation)\n"
      ]
    },
    {
      "cell_type": "code",
      "execution_count": null,
      "metadata": {
        "id": "QzLbwiDyzn-Z"
      },
      "outputs": [],
      "source": [
        "def print_tree_metrics(tree, X, y):\n",
        "    y_pred = np.array([predict(tree, sample) for sample in X])\n",
        "    accuracy, precision, recall, f1 = calculate_metrics(y, y_pred)\n",
        "\n",
        "    print(\"Accuracy: {:.2%}\".format(accuracy))\n",
        "    print(\"Precision: {:.2%}\".format(precision))\n",
        "    print(\"Recall: {:.2%}\".format(recall))\n",
        "    print(\"F1 Score: {:.2%}\".format(f1))\n",
        "\n",
        "\n",
        "def print_tree_differences(tree1, tree2):\n",
        "    # Compare tree structures or any other relevant differences between the two trees\n",
        "    # This can be based on the depth, number of nodes, or any other criteria you find useful\n",
        "    # Example: Print the depth of each tree\n",
        "    depth1 = get_tree_depth(tree1)\n",
        "    depth2 = get_tree_depth(tree2)\n",
        "\n",
        "    print(\"Depth of Pre-Pruning Decision Tree:\", depth1)\n",
        "    print(\"Depth of Post-Pruning Decision Tree:\", depth2)\n",
        "    print(\"Depth Difference:\", depth1 - depth2)\n",
        "\n",
        "\n",
        "def get_tree_depth(node):\n",
        "    if not node:\n",
        "        return 0\n",
        "\n",
        "    left_depth = get_tree_depth(node.left)\n",
        "    right_depth = get_tree_depth(node.right)\n",
        "\n",
        "    return max(left_depth, right_depth) + 1\n",
        "\n",
        "\n",
        "def find_pruned_features(node1, node2):\n",
        "    # Compare the features pruned between two trees\n",
        "    pruned_features = []\n",
        "\n",
        "    if not node1 or not node2:\n",
        "        return pruned_features\n",
        "\n",
        "    if (not node1.left and not node1.right) and (node2.left or node2.right):\n",
        "        # Node1 is a leaf, but Node2 has children, indicating pruning\n",
        "        pruned_features.append((node1.feature_index, node1.threshold))\n",
        "\n",
        "    pruned_features.extend(find_pruned_features(node1.left, node2.left))\n",
        "    pruned_features.extend(find_pruned_features(node1.right, node2.right))\n",
        "\n",
        "    return pruned_features\n"
      ]
    },
    {
      "cell_type": "markdown",
      "metadata": {
        "id": "jkhmwDQ3ZOCL"
      },
      "source": [
        "## Explanation of Decision Tree Evaluation and Comparison Code\n",
        "\n",
        "This code defines functions to analyze and compare decision trees:\n",
        "\n",
        "**1. `print_tree_metrics`:**\n",
        "\n",
        "* Calculates performance metrics for a decision tree on a given dataset.\n",
        "* Uses `predict` to get predicted labels for all data points.\n",
        "* Calculates accuracy, precision, recall, and F1 score.\n",
        "* Prints the metrics formatted with percentages.\n",
        "\n",
        "**2. `print_tree_differences`:**\n",
        "\n",
        "* Compares two decision trees and highlights their differences.\n",
        "* This can be based on various criteria, such as:\n",
        "    * Depth: This code uses `get_tree_depth` to find the maximum depth of each tree and prints the difference.\n",
        "    * Number of nodes: You can modify the function to count nodes and compare the total number.\n",
        "    * Feature usage: You can analyze which features were used in each tree and identify any differences.\n",
        "\n",
        "**3. `get_tree_depth`:**\n",
        "\n",
        "* Recursively calculates the depth of a decision tree.\n",
        "* Base case for a leaf node is depth 0.\n",
        "* Otherwise, it returns the maximum depth of its left and right subtrees + 1.\n",
        "\n",
        "**4. `find_pruned_features`:**\n",
        "\n",
        "* Compares two decision trees and identifies features pruned in one compared to the other.\n",
        "* Uses recursion to traverse both trees simultaneously.\n",
        "* If a node in one tree is a leaf while the corresponding node in the other has children, it indicates pruning.\n",
        "* The feature index and threshold of the pruned node are added to the `pruned_features` list.\n",
        "* This function provides a way to analyze the specific features sacrificed during the pruning process.\n",
        "\n",
        "**Overall Function:**\n",
        "\n",
        "These functions allow you to assess the performance and differences between two decision trees. This helps you understand the impact of pruning on the model's accuracy and complexity, and analyze which features were deemed less relevant and removed. This information can be valuable for evaluating the effectiveness of the pruning process and making further improvements to the decision tree model.\n"
      ]
    },
    {
      "cell_type": "code",
      "execution_count": null,
      "metadata": {
        "colab": {
          "base_uri": "https://localhost:8080/"
        },
        "id": "AowRl8GNzYU0",
        "outputId": "97e3ec70-b01b-4e48-f9fe-20a3a896481b"
      },
      "outputs": [
        {
          "name": "stdout",
          "output_type": "stream",
          "text": [
            "Pre-Pruning Decision Tree Metrics:\n",
            "Accuracy: 16.20%\n",
            "Precision: 12.92%\n",
            "Recall: 16.20%\n",
            "F1 Score: 13.75%\n",
            "\n",
            "Post-Pruning Decision Tree Metrics:\n",
            "Accuracy: 16.20%\n",
            "Precision: 12.92%\n",
            "Recall: 16.20%\n",
            "F1 Score: 13.75%\n",
            "Differences between Pre-Pruning and Post-Pruning Decision Trees:\n",
            "Depth of Pre-Pruning Decision Tree: 32\n",
            "Depth of Post-Pruning Decision Tree: 32\n",
            "Depth Difference: 0\n"
          ]
        }
      ],
      "source": [
        "print(\"Pre-Pruning Decision Tree Metrics:\")\n",
        "print_tree_metrics(tree, X_test, y_test)\n",
        "\n",
        "print(\"\\nPost-Pruning Decision Tree Metrics:\")\n",
        "print_tree_metrics(pruned_tree, X_test, y_test)\n",
        "\n",
        "print(\"Differences between Pre-Pruning and Post-Pruning Decision Trees:\")\n",
        "print_tree_differences(tree, pruned_tree)\n",
        "\n"
      ]
    },
    {
      "cell_type": "code",
      "execution_count": null,
      "metadata": {
        "colab": {
          "base_uri": "https://localhost:8080/"
        },
        "id": "_LCtls6mEvab",
        "outputId": "5a453e58-6ac9-4fbe-dd78-294bffb1d104"
      },
      "outputs": [
        {
          "name": "stdout",
          "output_type": "stream",
          "text": [
            "Pre-Pruning Decision Tree Metrics:\n",
            "Accuracy: 13.40%\n",
            "Precision: 10.75%\n",
            "Recall: 13.40%\n",
            "F1 Score: 11.58%\n",
            "\n",
            "Post-Pruning Decision Tree Metrics:\n",
            "Accuracy: 16.20%\n",
            "Precision: 12.92%\n",
            "Recall: 16.20%\n",
            "F1 Score: 13.75%\n"
          ]
        }
      ],
      "source": [
        "# Print the metrics values for pre-pruning\n",
        "print(\"Pre-Pruning Decision Tree Metrics:\")\n",
        "print(\"Accuracy: {:.2%}\".format(accuracy_validation))\n",
        "print(\"Precision: {:.2%}\".format(precision_validation))\n",
        "print(\"Recall: {:.2%}\".format(recall_validation))\n",
        "print(\"F1 Score: {:.2%}\".format(f1_validation))\n",
        "\n",
        "# Print the metrics values for post-pruning\n",
        "print(\"\\nPost-Pruning Decision Tree Metrics:\")\n",
        "print_tree_metrics(pruned_tree, X_test, y_test)\n"
      ]
    },
    {
      "cell_type": "code",
      "execution_count": null,
      "metadata": {
        "colab": {
          "base_uri": "https://localhost:8080/",
          "height": 807
        },
        "id": "Rkt--KynHztE",
        "outputId": "f46c1836-32cd-47a8-f901-0aee281f8a5a"
      },
      "outputs": [
        {
          "data": {
            "image/png": "[encoded data removed]",
            "text/plain": [
              "<Figure size 1200x800 with 4 Axes>"
            ]
          },
          "metadata": {},
          "output_type": "display_data"
        }
      ],
      "source": [
        "def plot_comparison(pre_pruning_metrics, post_pruning_metrics):\n",
        "    metrics_labels = ['Accuracy', 'Precision', 'Recall', 'F1 Score']\n",
        "\n",
        "    plt.figure(figsize=(12, 8))\n",
        "\n",
        "    for i in range(4):\n",
        "        plt.subplot(2, 2, i+1)\n",
        "        plt.bar(['Pre-Pruning', 'Post-Pruning'], [pre_pruning_metrics[i], post_pruning_metrics[i]], color=['blue', 'orange'])\n",
        "        plt.title(metrics_labels[i])\n",
        "        plt.ylabel(\"Value\")\n",
        "\n",
        "    plt.tight_layout()\n",
        "    plt.show()\n",
        "\n",
        "# Assuming you have already calculated metrics for pre-pruning and post-pruning\n",
        "pre_pruning_metrics = [0.134, 0.1075, 0.134, 0.1158]  # Replace with your actual values\n",
        "post_pruning_metrics = [0.162, 0.1292, 0.162, 0.1375]  # Replace with your actual values\n",
        "\n",
        "# Compare and plot the values\n",
        "plot_comparison(pre_pruning_metrics, post_pruning_metrics)\n"
      ]
    },
    {
      "cell_type": "markdown",
      "metadata": {
        "id": "YPUZv25CZ4UE"
      },
      "source": [
        "## Explanation of Decision Tree Metrics Visualization Code\n",
        "\n",
        "This code defines a function to visualize the performance metrics of two decision trees:\n",
        "\n",
        "**1. `plot_comparison`:**\n",
        "\n",
        "* Takes two lists of performance metrics as input:\n",
        "    * `pre_pruning_metrics`: Metrics for the decision tree before pruning.\n",
        "    * `post_pruning_metrics`: Metrics for the decision tree after pruning.\n",
        "* Defines a list of `metrics_labels` to correspond to the metrics in the lists.\n",
        "* Creates a figure with four subplots, one for each metric.\n",
        "* Uses `plt.bar` to plot each metric for both pre- and post-pruning cases with different colors.\n",
        "* Sets titles for each subplot with the corresponding metric label.\n",
        "* Uses `plt.ylabel` to label the Y-axis as \"Value\".\n",
        "* Adjusts the layout and displays the plot using `plt.show()`.\n",
        "\n",
        "**Overall Function:**\n",
        "\n",
        "This code provides a clear and visually appealing way to compare the performance of two decision trees across different metrics. It allows for easy identification of changes in accuracy, precision, recall, and F1 score after applying the pruning process. This can be helpful for understanding the trade-off between model complexity and performance and determining the effectiveness of the pruning technique.\n"
      ]
    },
    {
      "cell_type": "markdown",
      "metadata": {
        "id": "ETq04HrA4B--"
      },
      "source": [
        "**Observing the results post-pruning reveals an improvement in both time efficiency and accuracy for the validation set. Thus, engaging in pruning is a beneficial strategy.**"
      ]
    },
    {
      "cell_type": "code",
      "execution_count": null,
      "metadata": {
        "id": "-pyaGJla4XrI"
      },
      "outputs": [],
      "source": []
    }
  ],
  "metadata": {
    "accelerator": "GPU",
    "colab": {
      "gpuType": "T4",
      "provenance": []
    },
    "kernelspec": {
      "display_name": "Python 3",
      "name": "python3"
    },
    "language_info": {
      "name": "python"
    }
  },
  "nbformat": 4,
  "nbformat_minor": 0
}
